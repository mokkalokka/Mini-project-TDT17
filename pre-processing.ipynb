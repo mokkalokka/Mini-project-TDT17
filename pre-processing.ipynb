{
 "cells": [
  {
   "cell_type": "markdown",
   "metadata": {},
   "source": [
    "# Pascal VOC -> yolo format"
   ]
  },
  {
   "cell_type": "code",
   "execution_count": null,
   "metadata": {},
   "outputs": [],
   "source": [
    "import glob\n",
    "import os\n",
    "import pickle\n",
    "import xml.etree.ElementTree as ET\n",
    "from os import listdir, getcwd\n",
    "from os.path import join\n",
    "\n",
    "\n",
    "def convert(size, box):\n",
    "    dw = 1./(size[0])\n",
    "    dh = 1./(size[1])\n",
    "    x = (box[0] + box[1])/2.0 - 1\n",
    "    y = (box[2] + box[3])/2.0 - 1\n",
    "    w = box[1] - box[0]\n",
    "    h = box[3] - box[2]\n",
    "    x = x*dw\n",
    "    w = w*dw\n",
    "    y = y*dh\n",
    "    h = h*dh\n",
    "    return (x, y, w, h)\n",
    "\n",
    "\n",
    "def convert_annotation(xml_file, output_file_path, classes):\n",
    "\n",
    "    in_file = open(xml_file)\n",
    "    out_file = open(output_file_path, 'w')\n",
    "    tree = ET.parse(in_file)\n",
    "    root = tree.getroot()\n",
    "    size = root.find('size')\n",
    "    w = int(size.find('width').text)\n",
    "    h = int(size.find('height').text)\n",
    "\n",
    "    for obj in root.iter('object'):\n",
    "        #difficult = obj.find('difficult').text\n",
    "        cls = obj.find('name').text\n",
    "        if cls not in classes:# or int(difficult) == 1:\n",
    "            continue\n",
    "        cls_id = classes.index(cls)\n",
    "        xmlbox = obj.find('bndbox')\n",
    "        b = (float(xmlbox.find('xmin').text), float(xmlbox.find('xmax').text), float(\n",
    "            xmlbox.find('ymin').text), float(xmlbox.find('ymax').text))\n",
    "        bb = convert((w, h), b)\n",
    "        out_file.write(str(cls_id) + \" \" +\n",
    "                       \" \".join([str(a) for a in bb]) + '\\n')\n"
   ]
  },
  {
   "cell_type": "code",
   "execution_count": null,
   "metadata": {},
   "outputs": [],
   "source": [
    "import os\n",
    "def get_files_in_folder_as_array(path):\n",
    "    files = []\n",
    "    \n",
    "    if os.path.lexists(path):\n",
    "        for filename in os.listdir(path):\n",
    "            files.append(filename.split(\".\")[0])\n",
    "    return files\n"
   ]
  },
  {
   "cell_type": "code",
   "execution_count": null,
   "metadata": {},
   "outputs": [],
   "source": [
    "from sklearn.model_selection import train_test_split\n",
    "from pathlib import Path\n",
    "\n",
    "dataset_location = \"/cluster/projects/vc/courses/TDT17/2022/open/RDD2022/\"\n",
    "subsets = [\"China_Drone\", \"China_MotorBike\", \"Czech\", \"India\", \"Japan\", \"United_States\", \"Norway\"]\n",
    "subsets = [\"Norway\"]\n",
    "classes = ['D00', 'D10', 'D20', 'D40']\n",
    "\n",
    "\n",
    "for subset in subsets:\n",
    "    path = dataset_location + subset\n",
    "\n",
    "    train_images_location = path + \"/train/images\"\n",
    "    test_images_location = path + \"/test/images\"\n",
    "    labels_location = path + \"/train/annotations/xmls/\"\n",
    "\n",
    "    train_val_files = get_files_in_folder_as_array(train_images_location)\n",
    "    test_files = get_files_in_folder_as_array(test_images_location)  \n",
    "    \n",
    "    train_files, val_files = train_test_split(train_val_files, test_size=0.2, random_state=42)\n",
    "\n",
    "\n",
    "    ####### Make folders and symlink in correct folders ######\n",
    "    new_path = \"./data/RDD2022/\" + subset\n",
    "\n",
    "    for path, files in zip([\"/train/\", \"/val/\", \"/test/\"], [train_files, val_files, test_files]):\n",
    "        for f in files:\n",
    "            img_path = new_path + \"/images\" +  path + f + \".jpg\"\n",
    "            img_src = train_images_location + \"/\" + f + \".jpg\"\n",
    "            \n",
    "            Path(new_path + \"/images\" + path).mkdir(parents=True, exist_ok=True)\n",
    "            if not os.path.lexists(img_path):\n",
    "                os.symlink(img_src, img_path)\n",
    "            \n",
    "            # Converting xml annotations\n",
    "            label_path = new_path + \"/labels\" + path + f + \".txt\"\n",
    "            label_src = labels_location + f + \".xml\"\n",
    "            if os.path.lexists(label_src) and not os.path.lexists(label_path):\n",
    "                Path(new_path + \"/labels\" + path).mkdir(parents=True, exist_ok=True)\n",
    "                convert_annotation(label_src, label_path, classes=classes)\n"
   ]
  }
 ],
 "metadata": {
  "kernelspec": {
   "display_name": "yolov7",
   "language": "python",
   "name": "python3"
  },
  "language_info": {
   "codemirror_mode": {
    "name": "ipython",
    "version": 3
   },
   "file_extension": ".py",
   "mimetype": "text/x-python",
   "name": "python",
   "nbconvert_exporter": "python",
   "pygments_lexer": "ipython3",
   "version": "3.8.15"
  },
  "orig_nbformat": 4,
  "vscode": {
   "interpreter": {
    "hash": "9c9b3f547cb707f401048ea71fce773d9ca7080e5f78133ee2792fdc85ea48e5"
   }
  }
 },
 "nbformat": 4,
 "nbformat_minor": 2
}
