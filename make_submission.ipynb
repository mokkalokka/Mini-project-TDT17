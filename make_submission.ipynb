{
 "cells": [
  {
   "cell_type": "code",
   "execution_count": 48,
   "metadata": {},
   "outputs": [
    {
     "data": {
      "text/plain": [
       "[2, 880, 1241, 1604, 1348]"
      ]
     },
     "execution_count": 48,
     "metadata": {},
     "output_type": "execute_result"
    }
   ],
   "source": [
    "\n",
    "import imagesize\n",
    "import bbox_utils\n",
    "import numpy as np\n",
    "\n",
    "def yolo_to_xyxy(img_path, yolo_pred):\n",
    "    base_path = \"/cluster/projects/vc/courses/TDT17/2022/open/RDD2022/Norway/test/images/\"\n",
    "\n",
    "    w, h = imagesize.get(base_path + img_path)\n",
    "    \n",
    "    yolo_pred = [float(e) for e in yolo_pred]\n",
    "    \n",
    "    bb = bbox_utils.BoundingBox.from_yolo(center=np.array([yolo_pred[1],yolo_pred[2]]),width=yolo_pred[3],height=yolo_pred[4], image_dimension=np.array([h,w]))\n",
    "    class_idx = int(yolo_pred[0])\n",
    "    if class_idx != 3:\n",
    "        xyxy_pred = [class_idx + 1]\n",
    "    else:\n",
    "        xyxy_pred = [class_idx]\n",
    "    \n",
    "    bb = bb.to_xyxy()\n",
    "    xyxy_pred.extend(bb[0])\n",
    "    xyxy_pred.extend(bb[1])\n",
    "    \n",
    "    # if conf is included\n",
    "    if len(yolo_pred) == 6:\n",
    "        xyxy_pred.append(yolo_pred[5])\n",
    "    \n",
    "    return xyxy_pred\n",
    "    \n",
    "\n",
    "    \n",
    "pred = ['1', '0.340242', '0.633268', '0.198463', '0.05242530']\n",
    "yolo_to_xyxy(\"Norway_008161.jpg\", pred)\n"
   ]
  },
  {
   "cell_type": "code",
   "execution_count": 32,
   "metadata": {},
   "outputs": [],
   "source": [
    "from operator import itemgetter\n",
    "\n",
    "def sort_preds_by_conf(preds):\n",
    "    sorted_preds = sorted(preds, key=itemgetter(5), reverse=True)#\n",
    "    \n",
    "    # # remove conf \n",
    "    # for pred in preds:\n",
    "        \n",
    "    #     pred.pop()\n",
    "        \n",
    "    return sorted_preds"
   ]
  },
  {
   "cell_type": "code",
   "execution_count": 47,
   "metadata": {},
   "outputs": [
    {
     "name": "stderr",
     "output_type": "stream",
     "text": [
      "100%|██████████| 971/971 [00:03<00:00, 302.59it/s]\n"
     ]
    }
   ],
   "source": [
    "from os import listdir, getcwd\n",
    "from os.path import join\n",
    "from tqdm import tqdm\n",
    "\n",
    "test_files = \"./data/RDD2022/Norway/images/test\"\n",
    "submission_folder = \"./runs/detect/exp16/labels/\"\n",
    "# submission_file = open(\"./submission/submission_v3.txt\", \"w\")\n",
    "\n",
    "all_test_files = []\n",
    "for f_name in listdir(test_files):\n",
    "    all_test_files.append(f_name)\n",
    "\n",
    "with open(\"./submission/submission_v6.txt\", \"w\") as submission_file:\n",
    "    for f_name in tqdm(listdir(submission_folder)):\n",
    "        f = open(submission_folder + f_name, \"r\")\n",
    "        img_name = f_name.split(\".\")[0] + \".jpg\"\n",
    "\n",
    "        preds = []\n",
    "        for line in f:\n",
    "            pred = line.replace(\"\\n\", \"\").split(\" \")\n",
    "            preds.append(yolo_to_xyxy(img_name, pred))\n",
    "        \n",
    "        preds = sort_preds_by_conf(preds)\n",
    "        # threshold\n",
    "        conf_threshold = 0.25\n",
    "        \n",
    "        filtered_preds = []\n",
    "        for i, pred in enumerate(preds):\n",
    "            if pred[-1] >= conf_threshold:\n",
    "                pred.pop()\n",
    "                filtered_preds.append(pred)\n",
    "            \n",
    "        filtered_preds = [str(item) for sublist in filtered_preds for item in sublist]\n",
    "        \n",
    "        \n",
    "        submission_file.write(img_name + \",\" + \" \".join(filtered_preds) + \"\\n\")\n",
    "        all_test_files.remove(img_name)\n",
    "        \n",
    "        \n",
    "\n",
    "    for f_name in all_test_files:\n",
    "        submission_file\n",
    "        submission_file.write(f_name + \",\\n\")\n"
   ]
  }
 ],
 "metadata": {
  "kernelspec": {
   "display_name": "Python 3.8.15 ('yolov7')",
   "language": "python",
   "name": "python3"
  },
  "language_info": {
   "codemirror_mode": {
    "name": "ipython",
    "version": 3
   },
   "file_extension": ".py",
   "mimetype": "text/x-python",
   "name": "python",
   "nbconvert_exporter": "python",
   "pygments_lexer": "ipython3",
   "version": "3.8.15"
  },
  "orig_nbformat": 4,
  "vscode": {
   "interpreter": {
    "hash": "9c9b3f547cb707f401048ea71fce773d9ca7080e5f78133ee2792fdc85ea48e5"
   }
  }
 },
 "nbformat": 4,
 "nbformat_minor": 2
}
